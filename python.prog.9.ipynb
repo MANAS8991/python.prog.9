{
 "cells": [
  {
   "cell_type": "markdown",
   "id": "d3116498",
   "metadata": {},
   "source": [
    "# 1. Write a Python program to check if the given number is a Disarium Number?"
   ]
  },
  {
   "cell_type": "code",
   "execution_count": 1,
   "id": "fe0355e9",
   "metadata": {},
   "outputs": [
    {
     "name": "stdout",
     "output_type": "stream",
     "text": [
      "Enter a number: 5\n",
      "5 is a Disarium number.\n"
     ]
    }
   ],
   "source": [
    "def is_disarium_number(number):\n",
    "    number_str = str(number)\n",
    "    sum_digits = 0\n",
    "\n",
    "    for index, digit in enumerate(number_str, start=1):\n",
    "        sum_digits += int(digit) ** index\n",
    "\n",
    "    if sum_digits == number:\n",
    "        return True\n",
    "    else:\n",
    "        return False\n",
    "\n",
    "# Test the program\n",
    "number = int(input(\"Enter a number: \"))\n",
    "\n",
    "if is_disarium_number(number):\n",
    "    print(number, \"is a Disarium number.\")\n",
    "else:\n",
    "    print(number, \"is not a Disarium number.\")\n"
   ]
  },
  {
   "cell_type": "markdown",
   "id": "45f4c52f",
   "metadata": {},
   "source": [
    "# 2. Write a Python program to print all disarium numbers between 1 to 100?"
   ]
  },
  {
   "cell_type": "code",
   "execution_count": 2,
   "id": "504a89a6",
   "metadata": {},
   "outputs": [
    {
     "name": "stdout",
     "output_type": "stream",
     "text": [
      "Disarium numbers between 1 and 100:\n",
      "1\n",
      "2\n",
      "3\n",
      "4\n",
      "5\n",
      "6\n",
      "7\n",
      "8\n",
      "9\n",
      "89\n"
     ]
    }
   ],
   "source": [
    "def is_disarium_number(number):\n",
    "    number_str = str(number)\n",
    "    sum_digits = 0\n",
    "\n",
    "    for index, digit in enumerate(number_str, start=1):\n",
    "        sum_digits += int(digit) ** index\n",
    "\n",
    "    if sum_digits == number:\n",
    "        return True\n",
    "    else:\n",
    "        return False\n",
    "\n",
    "# Find and print Disarium numbers between 1 and 100\n",
    "print(\"Disarium numbers between 1 and 100:\")\n",
    "\n",
    "for number in range(1, 101):\n",
    "    if is_disarium_number(number):\n",
    "        print(number)\n"
   ]
  },
  {
   "cell_type": "markdown",
   "id": "3612e511",
   "metadata": {},
   "source": [
    "# 3. Write a Python program to check if the given number is Happy Number?"
   ]
  },
  {
   "cell_type": "code",
   "execution_count": 5,
   "id": "3ec576f6",
   "metadata": {},
   "outputs": [
    {
     "name": "stdout",
     "output_type": "stream",
     "text": [
      "Enter a number: 20\n",
      "20 is not a Happy Number\n"
     ]
    }
   ],
   "source": [
    "def is_happy_number(number):\n",
    "    def get_next_number(number):\n",
    "        next_number = 0\n",
    "        while number > 0:\n",
    "            digit = number % 10\n",
    "            next_number += digit ** 2\n",
    "            number //= 10\n",
    "        return next_number\n",
    "\n",
    "    seen_numbers = set()\n",
    "\n",
    "    while number != 1 and number not in seen_numbers:\n",
    "        seen_numbers.add(number)\n",
    "        number = get_next_number(number)\n",
    "\n",
    "    if number == 1:\n",
    "        return True\n",
    "    else:\n",
    "        return False\n",
    "\n",
    "# Check if a number is a Happy Number\n",
    "number = int(input(\"Enter a number: \"))\n",
    "if is_happy_number(number):\n",
    "    print(number, \"is a Happy Number\")\n",
    "else:\n",
    "    print(number, \"is not a Happy Number\")\n"
   ]
  },
  {
   "cell_type": "markdown",
   "id": "33dcbd2b",
   "metadata": {},
   "source": [
    "# 4. Write a Python program to print all happy numbers between 1 and 100?"
   ]
  },
  {
   "cell_type": "code",
   "execution_count": 6,
   "id": "70b1542a",
   "metadata": {},
   "outputs": [
    {
     "name": "stdout",
     "output_type": "stream",
     "text": [
      "Happy Numbers between 1 and 100:\n",
      "1\n",
      "7\n",
      "10\n",
      "13\n",
      "19\n",
      "23\n",
      "28\n",
      "31\n",
      "32\n",
      "44\n",
      "49\n",
      "68\n",
      "70\n",
      "79\n",
      "82\n",
      "86\n",
      "91\n",
      "94\n",
      "97\n",
      "100\n"
     ]
    }
   ],
   "source": [
    "def is_happy_number(number):\n",
    "    def get_next_number(number):\n",
    "        next_number = 0\n",
    "        while number > 0:\n",
    "            digit = number % 10\n",
    "            next_number += digit ** 2\n",
    "            number //= 10\n",
    "        return next_number\n",
    "\n",
    "    seen_numbers = set()\n",
    "\n",
    "    while number != 1 and number not in seen_numbers:\n",
    "        seen_numbers.add(number)\n",
    "        number = get_next_number(number)\n",
    "\n",
    "    if number == 1:\n",
    "        return True\n",
    "    else:\n",
    "        return False\n",
    "\n",
    "# Print all Happy Numbers between 1 and 100\n",
    "print(\"Happy Numbers between 1 and 100:\")\n",
    "for number in range(1, 101):\n",
    "    if is_happy_number(number):\n",
    "        print(number)\n"
   ]
  },
  {
   "cell_type": "markdown",
   "id": "e5d2019b",
   "metadata": {},
   "source": [
    "# 5. Write a Python program to determine whether the given number is a Harshad Number?"
   ]
  },
  {
   "cell_type": "code",
   "execution_count": 7,
   "id": "aa0866bd",
   "metadata": {},
   "outputs": [
    {
     "name": "stdout",
     "output_type": "stream",
     "text": [
      "Enter a number: 7\n",
      "7 is a Harshad Number\n"
     ]
    }
   ],
   "source": [
    "def is_harshad_number(number):\n",
    "    # Calculate the sum of the digits\n",
    "    digit_sum = sum(int(digit) for digit in str(number))\n",
    "    \n",
    "    # Check if the number is divisible by the sum of its digits\n",
    "    if number % digit_sum == 0:\n",
    "        return True\n",
    "    else:\n",
    "        return False\n",
    "\n",
    "# Take input from the user\n",
    "number = int(input(\"Enter a number: \"))\n",
    "\n",
    "# Check if the number is a Harshad Number\n",
    "if is_harshad_number(number):\n",
    "    print(number, \"is a Harshad Number\")\n",
    "else:\n",
    "    print(number, \"is not a Harshad Number\")\n"
   ]
  },
  {
   "cell_type": "markdown",
   "id": "5ccac4bd",
   "metadata": {},
   "source": [
    "# 6. Write a Python program to print all pronic numbers between 1 and 100?"
   ]
  },
  {
   "cell_type": "code",
   "execution_count": 8,
   "id": "c0f0ef0d",
   "metadata": {},
   "outputs": [
    {
     "name": "stdout",
     "output_type": "stream",
     "text": [
      "Pronic numbers between 1 and 100 :\n",
      "2 6 12 20 30 42 56 72 90 "
     ]
    }
   ],
   "source": [
    "def print_pronic_numbers(start, end):\n",
    "    pronic_numbers = []\n",
    "    for num in range(start, end+1):\n",
    "        # Find the square root of the number\n",
    "        sqrt = int(num ** 0.5)\n",
    "        \n",
    "        # Check if the number is a product of two consecutive integers\n",
    "        if sqrt * (sqrt + 1) == num:\n",
    "            pronic_numbers.append(num)\n",
    "    \n",
    "    # Print the pronic numbers\n",
    "    print(\"Pronic numbers between\", start, \"and\", end, \":\")\n",
    "    for num in pronic_numbers:\n",
    "        print(num, end=\" \")\n",
    "\n",
    "# Define the range of numbers\n",
    "start = 1\n",
    "end = 100\n",
    "\n",
    "# Print the pronic numbers between the given range\n",
    "print_pronic_numbers(start, end)\n"
   ]
  },
  {
   "cell_type": "code",
   "execution_count": null,
   "id": "96ccea84",
   "metadata": {},
   "outputs": [],
   "source": []
  }
 ],
 "metadata": {
  "kernelspec": {
   "display_name": "Python 3 (ipykernel)",
   "language": "python",
   "name": "python3"
  },
  "language_info": {
   "codemirror_mode": {
    "name": "ipython",
    "version": 3
   },
   "file_extension": ".py",
   "mimetype": "text/x-python",
   "name": "python",
   "nbconvert_exporter": "python",
   "pygments_lexer": "ipython3",
   "version": "3.9.12"
  }
 },
 "nbformat": 4,
 "nbformat_minor": 5
}
